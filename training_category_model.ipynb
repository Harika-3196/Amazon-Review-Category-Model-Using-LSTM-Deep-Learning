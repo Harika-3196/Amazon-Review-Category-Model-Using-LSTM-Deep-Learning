{
 "cells": [
  {
   "cell_type": "code",
   "execution_count": 1,
   "metadata": {
    "ExecuteTime": {
     "end_time": "2020-10-12T15:02:25.468292Z",
     "start_time": "2020-10-12T15:02:24.145522Z"
    }
   },
   "outputs": [],
   "source": [
    "import re\n",
    "import gzip\n",
    "import json\n",
    "import time\n",
    "import spacy\n",
    "import numpy as np\n",
    "import pandas as pd\n",
    "import matplotlib.pyplot as plt\n",
    "import warnings\n",
    "warnings.filterwarnings('ignore')\n",
    "\n",
    "from termcolor import colored\n",
    "\n",
    "\n",
    "\n",
    "\n",
    "pd.set_option('display.max_rows', None)\n",
    "pd.set_option('display.max_columns', None)\n",
    "pd.set_option('display.width', None)\n",
    "pd.set_option('display.max_colwidth', -1)"
   ]
  },
  {
   "cell_type": "code",
   "execution_count": 2,
   "metadata": {
    "ExecuteTime": {
     "end_time": "2020-10-12T15:02:45.181195Z",
     "start_time": "2020-10-12T15:02:25.470257Z"
    }
   },
   "outputs": [],
   "source": [
    "def parse(path):\n",
    "  g = gzip.open(path, 'rb')\n",
    "  for l in g:\n",
    "    yield json.loads(l)\n",
    "\n",
    "def getDF(path):\n",
    "  i = 0\n",
    "  df = {}\n",
    "  for d in parse(path):\n",
    "    df[i] = d\n",
    "    i += 1\n",
    "  return pd.DataFrame.from_dict(df, orient='index')\n",
    "\n",
    "\n",
    "grocery_df=getDF(\"./reviews_Grocery_and_Gourmet_Food_5.json.gz\")\n",
    "office_df=getDF(\"./reviews_Office_Products_5.json.gz\")\n",
    "beauty_df=getDF(\"./reviews_Beauty_5.json.gz\")\n",
    "toy_df=getDF(\"./reviews_Toys_and_Games_5.json.gz\")\n",
    "pet_df=getDF(\"./reviews_Pet_Supplies_5.json.gz\")"
   ]
  },
  {
   "cell_type": "code",
   "execution_count": 3,
   "metadata": {
    "ExecuteTime": {
     "end_time": "2020-10-12T15:02:45.201424Z",
     "start_time": "2020-10-12T15:02:45.183402Z"
    }
   },
   "outputs": [
    {
     "data": {
      "text/html": [
       "<div>\n",
       "<style scoped>\n",
       "    .dataframe tbody tr th:only-of-type {\n",
       "        vertical-align: middle;\n",
       "    }\n",
       "\n",
       "    .dataframe tbody tr th {\n",
       "        vertical-align: top;\n",
       "    }\n",
       "\n",
       "    .dataframe thead th {\n",
       "        text-align: right;\n",
       "    }\n",
       "</style>\n",
       "<table border=\"1\" class=\"dataframe\">\n",
       "  <thead>\n",
       "    <tr style=\"text-align: right;\">\n",
       "      <th></th>\n",
       "      <th>reviewerID</th>\n",
       "      <th>asin</th>\n",
       "      <th>reviewerName</th>\n",
       "      <th>helpful</th>\n",
       "      <th>reviewText</th>\n",
       "      <th>overall</th>\n",
       "      <th>summary</th>\n",
       "      <th>unixReviewTime</th>\n",
       "      <th>reviewTime</th>\n",
       "    </tr>\n",
       "  </thead>\n",
       "  <tbody>\n",
       "    <tr>\n",
       "      <th>0</th>\n",
       "      <td>A1VEELTKS8NLZB</td>\n",
       "      <td>616719923X</td>\n",
       "      <td>Amazon Customer</td>\n",
       "      <td>[0, 0]</td>\n",
       "      <td>Just another flavor of Kit Kat but the taste is unique and a bit different.  The only thing that is bothersome is the price.  I thought it was a bit expensive....</td>\n",
       "      <td>4.0</td>\n",
       "      <td>Good Taste</td>\n",
       "      <td>1370044800</td>\n",
       "      <td>06 1, 2013</td>\n",
       "    </tr>\n",
       "    <tr>\n",
       "      <th>1</th>\n",
       "      <td>A14R9XMZVJ6INB</td>\n",
       "      <td>616719923X</td>\n",
       "      <td>amf0001</td>\n",
       "      <td>[0, 1]</td>\n",
       "      <td>I bought this on impulse and it comes from Japan,  which amused my family,  all those weird stamps and markings on the package. So that was fun.  It said it would take about a month to arrive and it did take that long.  I was hoping for a more interesting taste but to our family,  it just tasted a bit less flavorful or weaker than the standard milk chocolate kit kat.  The green tea flavor was too subtle for the sugar and it just tasted sweet. The wafers were very crispy, and that was good,  but it tasted a bit anemic to us.I'm happy I bought it, but don't need to buy it again.</td>\n",
       "      <td>3.0</td>\n",
       "      <td>3.5 stars,  sadly not as wonderful as I had hoped</td>\n",
       "      <td>1400457600</td>\n",
       "      <td>05 19, 2014</td>\n",
       "    </tr>\n",
       "  </tbody>\n",
       "</table>\n",
       "</div>"
      ],
      "text/plain": [
       "       reviewerID        asin     reviewerName helpful  \\\n",
       "0  A1VEELTKS8NLZB  616719923X  Amazon Customer  [0, 0]   \n",
       "1  A14R9XMZVJ6INB  616719923X  amf0001          [0, 1]   \n",
       "\n",
       "                                                                                                                                                                                                                                                                                                                                                                                                                                                                                                                                                                                                reviewText  \\\n",
       "0  Just another flavor of Kit Kat but the taste is unique and a bit different.  The only thing that is bothersome is the price.  I thought it was a bit expensive....                                                                                                                                                                                                                                                                                                                                                                                                                                        \n",
       "1  I bought this on impulse and it comes from Japan,  which amused my family,  all those weird stamps and markings on the package. So that was fun.  It said it would take about a month to arrive and it did take that long.  I was hoping for a more interesting taste but to our family,  it just tasted a bit less flavorful or weaker than the standard milk chocolate kit kat.  The green tea flavor was too subtle for the sugar and it just tasted sweet. The wafers were very crispy, and that was good,  but it tasted a bit anemic to us.I'm happy I bought it, but don't need to buy it again.   \n",
       "\n",
       "   overall                                            summary  unixReviewTime  \\\n",
       "0  4.0      Good Taste                                         1370044800       \n",
       "1  3.0      3.5 stars,  sadly not as wonderful as I had hoped  1400457600       \n",
       "\n",
       "    reviewTime  \n",
       "0  06 1, 2013   \n",
       "1  05 19, 2014  "
      ]
     },
     "execution_count": 3,
     "metadata": {},
     "output_type": "execute_result"
    }
   ],
   "source": [
    "grocery_df.head(2)"
   ]
  },
  {
   "cell_type": "code",
   "execution_count": 4,
   "metadata": {
    "ExecuteTime": {
     "end_time": "2020-10-12T15:02:45.457981Z",
     "start_time": "2020-10-12T15:02:45.203371Z"
    }
   },
   "outputs": [],
   "source": [
    "grocery_df=grocery_df[[\"reviewText\",\"overall\"]]\n",
    "grocery_df[\"category\"]=\"food\"\n",
    "# print(grocery_df.head(1))\n",
    "\n",
    "office_df=office_df[[\"reviewText\",\"overall\"]]\n",
    "office_df[\"category\"]=\"office\"\n",
    "\n",
    "# print(office_df.head(1))\n",
    "\n",
    "beauty_df=beauty_df[[\"reviewText\",\"overall\"]]\n",
    "beauty_df[\"category\"]=\"beauty\"\n",
    "\n",
    "# print(beauty_df.head(1))\n",
    "\n",
    "toy_df=toy_df[[\"reviewText\",\"overall\"]]\n",
    "toy_df[\"category\"]=\"games\"\n",
    "# print(toy_df.head(1))\n",
    "\n",
    "\n",
    "pet_df=pet_df[[\"reviewText\",\"overall\"]]\n",
    "pet_df[\"category\"]=\"petsupplies\""
   ]
  },
  {
   "cell_type": "code",
   "execution_count": 5,
   "metadata": {
    "ExecuteTime": {
     "end_time": "2020-10-12T15:02:45.465532Z",
     "start_time": "2020-10-12T15:02:45.459960Z"
    }
   },
   "outputs": [
    {
     "data": {
      "text/plain": [
       "reviewText    Just another flavor of Kit Kat but the taste is unique and a bit different.  The only thing that is bothersome is the price.  I thought it was a bit expensive....\n",
       "overall       4                                                                                                                                                                 \n",
       "category      food                                                                                                                                                              \n",
       "Name: 0, dtype: object"
      ]
     },
     "execution_count": 5,
     "metadata": {},
     "output_type": "execute_result"
    }
   ],
   "source": [
    "grocery_df.iloc[0]"
   ]
  },
  {
   "cell_type": "code",
   "execution_count": 6,
   "metadata": {
    "ExecuteTime": {
     "end_time": "2020-10-12T15:02:45.586930Z",
     "start_time": "2020-10-12T15:02:45.467362Z"
    }
   },
   "outputs": [],
   "source": [
    "data=pd.concat([grocery_df,office_df,beauty_df,toy_df,pet_df])"
   ]
  },
  {
   "cell_type": "code",
   "execution_count": 7,
   "metadata": {
    "ExecuteTime": {
     "end_time": "2020-10-12T15:02:45.597280Z",
     "start_time": "2020-10-12T15:02:45.588684Z"
    }
   },
   "outputs": [
    {
     "data": {
      "text/html": [
       "<div>\n",
       "<style scoped>\n",
       "    .dataframe tbody tr th:only-of-type {\n",
       "        vertical-align: middle;\n",
       "    }\n",
       "\n",
       "    .dataframe tbody tr th {\n",
       "        vertical-align: top;\n",
       "    }\n",
       "\n",
       "    .dataframe thead th {\n",
       "        text-align: right;\n",
       "    }\n",
       "</style>\n",
       "<table border=\"1\" class=\"dataframe\">\n",
       "  <thead>\n",
       "    <tr style=\"text-align: right;\">\n",
       "      <th></th>\n",
       "      <th>reviewText</th>\n",
       "      <th>overall</th>\n",
       "      <th>category</th>\n",
       "    </tr>\n",
       "  </thead>\n",
       "  <tbody>\n",
       "    <tr>\n",
       "      <th>0</th>\n",
       "      <td>Just another flavor of Kit Kat but the taste is unique and a bit different.  The only thing that is bothersome is the price.  I thought it was a bit expensive....</td>\n",
       "      <td>4.0</td>\n",
       "      <td>food</td>\n",
       "    </tr>\n",
       "    <tr>\n",
       "      <th>1</th>\n",
       "      <td>I bought this on impulse and it comes from Japan,  which amused my family,  all those weird stamps and markings on the package. So that was fun.  It said it would take about a month to arrive and it did take that long.  I was hoping for a more interesting taste but to our family,  it just tasted a bit less flavorful or weaker than the standard milk chocolate kit kat.  The green tea flavor was too subtle for the sugar and it just tasted sweet. The wafers were very crispy, and that was good,  but it tasted a bit anemic to us.I'm happy I bought it, but don't need to buy it again.</td>\n",
       "      <td>3.0</td>\n",
       "      <td>food</td>\n",
       "    </tr>\n",
       "  </tbody>\n",
       "</table>\n",
       "</div>"
      ],
      "text/plain": [
       "                                                                                                                                                                                                                                                                                                                                                                                                                                                                                                                                                                                                reviewText  \\\n",
       "0  Just another flavor of Kit Kat but the taste is unique and a bit different.  The only thing that is bothersome is the price.  I thought it was a bit expensive....                                                                                                                                                                                                                                                                                                                                                                                                                                        \n",
       "1  I bought this on impulse and it comes from Japan,  which amused my family,  all those weird stamps and markings on the package. So that was fun.  It said it would take about a month to arrive and it did take that long.  I was hoping for a more interesting taste but to our family,  it just tasted a bit less flavorful or weaker than the standard milk chocolate kit kat.  The green tea flavor was too subtle for the sugar and it just tasted sweet. The wafers were very crispy, and that was good,  but it tasted a bit anemic to us.I'm happy I bought it, but don't need to buy it again.   \n",
       "\n",
       "   overall category  \n",
       "0  4.0      food     \n",
       "1  3.0      food     "
      ]
     },
     "execution_count": 7,
     "metadata": {},
     "output_type": "execute_result"
    }
   ],
   "source": [
    "data.head(2)"
   ]
  },
  {
   "cell_type": "code",
   "execution_count": 8,
   "metadata": {
    "ExecuteTime": {
     "end_time": "2020-10-12T15:02:46.895128Z",
     "start_time": "2020-10-12T15:02:45.599985Z"
    }
   },
   "outputs": [],
   "source": [
    "data[\"category\"].dropna(inplace=True)\n",
    "data.drop_duplicates(inplace=True)"
   ]
  },
  {
   "cell_type": "code",
   "execution_count": 9,
   "metadata": {
    "ExecuteTime": {
     "end_time": "2020-10-12T15:02:46.905763Z",
     "start_time": "2020-10-12T15:02:46.897450Z"
    }
   },
   "outputs": [
    {
     "data": {
      "text/html": [
       "<div>\n",
       "<style scoped>\n",
       "    .dataframe tbody tr th:only-of-type {\n",
       "        vertical-align: middle;\n",
       "    }\n",
       "\n",
       "    .dataframe tbody tr th {\n",
       "        vertical-align: top;\n",
       "    }\n",
       "\n",
       "    .dataframe thead th {\n",
       "        text-align: right;\n",
       "    }\n",
       "</style>\n",
       "<table border=\"1\" class=\"dataframe\">\n",
       "  <thead>\n",
       "    <tr style=\"text-align: right;\">\n",
       "      <th></th>\n",
       "      <th>reviewText</th>\n",
       "      <th>overall</th>\n",
       "      <th>category</th>\n",
       "    </tr>\n",
       "  </thead>\n",
       "  <tbody>\n",
       "    <tr>\n",
       "      <th>0</th>\n",
       "      <td>Just another flavor of Kit Kat but the taste is unique and a bit different.  The only thing that is bothersome is the price.  I thought it was a bit expensive....</td>\n",
       "      <td>4.0</td>\n",
       "      <td>food</td>\n",
       "    </tr>\n",
       "    <tr>\n",
       "      <th>1</th>\n",
       "      <td>I bought this on impulse and it comes from Japan,  which amused my family,  all those weird stamps and markings on the package. So that was fun.  It said it would take about a month to arrive and it did take that long.  I was hoping for a more interesting taste but to our family,  it just tasted a bit less flavorful or weaker than the standard milk chocolate kit kat.  The green tea flavor was too subtle for the sugar and it just tasted sweet. The wafers were very crispy, and that was good,  but it tasted a bit anemic to us.I'm happy I bought it, but don't need to buy it again.</td>\n",
       "      <td>3.0</td>\n",
       "      <td>food</td>\n",
       "    </tr>\n",
       "  </tbody>\n",
       "</table>\n",
       "</div>"
      ],
      "text/plain": [
       "                                                                                                                                                                                                                                                                                                                                                                                                                                                                                                                                                                                                reviewText  \\\n",
       "0  Just another flavor of Kit Kat but the taste is unique and a bit different.  The only thing that is bothersome is the price.  I thought it was a bit expensive....                                                                                                                                                                                                                                                                                                                                                                                                                                        \n",
       "1  I bought this on impulse and it comes from Japan,  which amused my family,  all those weird stamps and markings on the package. So that was fun.  It said it would take about a month to arrive and it did take that long.  I was hoping for a more interesting taste but to our family,  it just tasted a bit less flavorful or weaker than the standard milk chocolate kit kat.  The green tea flavor was too subtle for the sugar and it just tasted sweet. The wafers were very crispy, and that was good,  but it tasted a bit anemic to us.I'm happy I bought it, but don't need to buy it again.   \n",
       "\n",
       "   overall category  \n",
       "0  4.0      food     \n",
       "1  3.0      food     "
      ]
     },
     "execution_count": 9,
     "metadata": {},
     "output_type": "execute_result"
    }
   ],
   "source": [
    "data.head(2)"
   ]
  },
  {
   "cell_type": "code",
   "execution_count": 10,
   "metadata": {
    "ExecuteTime": {
     "end_time": "2020-10-12T15:02:46.967420Z",
     "start_time": "2020-10-12T15:02:46.907435Z"
    }
   },
   "outputs": [],
   "source": [
    "data=data.groupby(\"category\").head(10000)"
   ]
  },
  {
   "cell_type": "code",
   "execution_count": 11,
   "metadata": {
    "ExecuteTime": {
     "end_time": "2020-10-12T15:02:46.978870Z",
     "start_time": "2020-10-12T15:02:46.969166Z"
    }
   },
   "outputs": [
    {
     "data": {
      "text/plain": [
       "food           10000\n",
       "office         10000\n",
       "petsupplies    10000\n",
       "games          10000\n",
       "beauty         10000\n",
       "Name: category, dtype: int64"
      ]
     },
     "execution_count": 11,
     "metadata": {},
     "output_type": "execute_result"
    }
   ],
   "source": [
    "data[\"category\"].value_counts()"
   ]
  },
  {
   "cell_type": "code",
   "execution_count": 12,
   "metadata": {
    "ExecuteTime": {
     "end_time": "2020-10-12T15:02:46.984996Z",
     "start_time": "2020-10-12T15:02:46.980637Z"
    }
   },
   "outputs": [
    {
     "data": {
      "text/plain": [
       "50000"
      ]
     },
     "execution_count": 12,
     "metadata": {},
     "output_type": "execute_result"
    }
   ],
   "source": [
    "len(data)"
   ]
  },
  {
   "cell_type": "markdown",
   "metadata": {},
   "source": [
    "# Data Cleaning"
   ]
  },
  {
   "cell_type": "code",
   "execution_count": 13,
   "metadata": {
    "ExecuteTime": {
     "end_time": "2020-10-12T15:02:47.785924Z",
     "start_time": "2020-10-12T15:02:46.986692Z"
    }
   },
   "outputs": [],
   "source": [
    "import string\n",
    "from nltk.tokenize import word_tokenize as tokenize\n",
    "from nltk.corpus import stopwords\n",
    "stop_words=stopwords.words('english')"
   ]
  },
  {
   "cell_type": "code",
   "execution_count": 14,
   "metadata": {
    "ExecuteTime": {
     "end_time": "2020-10-12T15:02:47.792899Z",
     "start_time": "2020-10-12T15:02:47.787872Z"
    }
   },
   "outputs": [],
   "source": [
    "def clean(text):\n",
    "    text=text.lower()\n",
    "    url_removed=re.sub(r'https\\S+','',text,flags=re.MULTILINE)\n",
    "    text=re.sub(\"[^a-zA-Z]\",\" \",url_removed)\n",
    "    text=re.sub(\"\\.+\",\" \",text)\n",
    "    word_tokens=tokenize(text)\n",
    "    text=[word for word in word_tokens if word  not in stop_words]\n",
    "    text=[word for word in text if word not in string.punctuation]\n",
    "    return \" \".join(text)"
   ]
  },
  {
   "cell_type": "code",
   "execution_count": 15,
   "metadata": {
    "ExecuteTime": {
     "end_time": "2020-10-12T15:02:47.806934Z",
     "start_time": "2020-10-12T15:02:47.794645Z"
    }
   },
   "outputs": [
    {
     "data": {
      "text/plain": [
       "'good day'"
      ]
     },
     "execution_count": 15,
     "metadata": {},
     "output_type": "execute_result"
    }
   ],
   "source": [
    "clean(\"This is  good day . ! ! , I IS  #\")"
   ]
  },
  {
   "cell_type": "code",
   "execution_count": 16,
   "metadata": {
    "ExecuteTime": {
     "end_time": "2020-10-12T15:02:47.811986Z",
     "start_time": "2020-10-12T15:02:47.808702Z"
    }
   },
   "outputs": [],
   "source": [
    "check=data[\"reviewText\"].iloc[0]"
   ]
  },
  {
   "cell_type": "code",
   "execution_count": 17,
   "metadata": {
    "ExecuteTime": {
     "end_time": "2020-10-12T15:02:47.816957Z",
     "start_time": "2020-10-12T15:02:47.813544Z"
    }
   },
   "outputs": [
    {
     "name": "stdout",
     "output_type": "stream",
     "text": [
      "original sentence \n",
      " Just another flavor of Kit Kat but the taste is unique and a bit different.  The only thing that is bothersome is the price.  I thought it was a bit expensive....\n"
     ]
    }
   ],
   "source": [
    "print(\"original sentence \\n\",check)\n"
   ]
  },
  {
   "cell_type": "code",
   "execution_count": 18,
   "metadata": {
    "ExecuteTime": {
     "end_time": "2020-10-12T15:02:47.822352Z",
     "start_time": "2020-10-12T15:02:47.818595Z"
    }
   },
   "outputs": [
    {
     "name": "stdout",
     "output_type": "stream",
     "text": [
      "cleaned sentence:\n",
      " another flavor kit kat taste unique bit different thing bothersome price thought bit expensive\n"
     ]
    }
   ],
   "source": [
    "print(\"cleaned sentence:\\n\",clean(check))"
   ]
  },
  {
   "cell_type": "code",
   "execution_count": 19,
   "metadata": {
    "ExecuteTime": {
     "end_time": "2020-10-12T15:03:14.904208Z",
     "start_time": "2020-10-12T15:02:47.823734Z"
    }
   },
   "outputs": [],
   "source": [
    "data[\"cleaned_text\"]=data[\"reviewText\"].apply(lambda x:clean(x))"
   ]
  },
  {
   "cell_type": "code",
   "execution_count": null,
   "metadata": {
    "ExecuteTime": {
     "end_time": "2020-10-11T04:13:17.737247Z",
     "start_time": "2020-10-11T04:13:17.726412Z"
    }
   },
   "outputs": [],
   "source": []
  },
  {
   "cell_type": "code",
   "execution_count": 20,
   "metadata": {
    "ExecuteTime": {
     "end_time": "2020-10-12T15:03:14.913670Z",
     "start_time": "2020-10-12T15:03:14.906056Z"
    }
   },
   "outputs": [],
   "source": [
    "category_labels={\"petsupplies\":0,\"beauty\":1,\"games\":2,\"food\":3,\"office\":4}\n",
    "data[\"label\"]=data[\"category\"].map(category_labels)\n",
    "\n"
   ]
  },
  {
   "cell_type": "code",
   "execution_count": 21,
   "metadata": {
    "ExecuteTime": {
     "end_time": "2020-10-12T15:03:14.926413Z",
     "start_time": "2020-10-12T15:03:14.915582Z"
    }
   },
   "outputs": [
    {
     "data": {
      "text/plain": [
       "food           10000\n",
       "office         10000\n",
       "petsupplies    10000\n",
       "games          10000\n",
       "beauty         10000\n",
       "Name: category, dtype: int64"
      ]
     },
     "execution_count": 21,
     "metadata": {},
     "output_type": "execute_result"
    }
   ],
   "source": [
    "data[\"category\"].value_counts()"
   ]
  },
  {
   "cell_type": "code",
   "execution_count": 22,
   "metadata": {
    "ExecuteTime": {
     "end_time": "2020-10-12T15:03:14.954652Z",
     "start_time": "2020-10-12T15:03:14.928427Z"
    }
   },
   "outputs": [],
   "source": [
    "data.dropna(inplace=True)"
   ]
  },
  {
   "cell_type": "code",
   "execution_count": 23,
   "metadata": {
    "ExecuteTime": {
     "end_time": "2020-10-12T15:03:14.969896Z",
     "start_time": "2020-10-12T15:03:14.959198Z"
    }
   },
   "outputs": [
    {
     "data": {
      "text/plain": [
       "food           10000\n",
       "office         10000\n",
       "petsupplies    10000\n",
       "games          10000\n",
       "beauty         10000\n",
       "Name: category, dtype: int64"
      ]
     },
     "execution_count": 23,
     "metadata": {},
     "output_type": "execute_result"
    }
   ],
   "source": [
    "data[\"category\"].value_counts()"
   ]
  },
  {
   "cell_type": "code",
   "execution_count": 24,
   "metadata": {
    "ExecuteTime": {
     "end_time": "2020-10-12T15:03:14.977320Z",
     "start_time": "2020-10-12T15:03:14.973336Z"
    }
   },
   "outputs": [],
   "source": [
    "data[\"label\"]=data[\"label\"].astype(int)"
   ]
  },
  {
   "cell_type": "code",
   "execution_count": 25,
   "metadata": {
    "ExecuteTime": {
     "end_time": "2020-10-12T15:03:14.989425Z",
     "start_time": "2020-10-12T15:03:14.979168Z"
    }
   },
   "outputs": [
    {
     "data": {
      "text/html": [
       "<div>\n",
       "<style scoped>\n",
       "    .dataframe tbody tr th:only-of-type {\n",
       "        vertical-align: middle;\n",
       "    }\n",
       "\n",
       "    .dataframe tbody tr th {\n",
       "        vertical-align: top;\n",
       "    }\n",
       "\n",
       "    .dataframe thead th {\n",
       "        text-align: right;\n",
       "    }\n",
       "</style>\n",
       "<table border=\"1\" class=\"dataframe\">\n",
       "  <thead>\n",
       "    <tr style=\"text-align: right;\">\n",
       "      <th></th>\n",
       "      <th>reviewText</th>\n",
       "      <th>overall</th>\n",
       "      <th>category</th>\n",
       "      <th>cleaned_text</th>\n",
       "      <th>label</th>\n",
       "    </tr>\n",
       "  </thead>\n",
       "  <tbody>\n",
       "    <tr>\n",
       "      <th>0</th>\n",
       "      <td>Just another flavor of Kit Kat but the taste is unique and a bit different.  The only thing that is bothersome is the price.  I thought it was a bit expensive....</td>\n",
       "      <td>4.0</td>\n",
       "      <td>food</td>\n",
       "      <td>another flavor kit kat taste unique bit different thing bothersome price thought bit expensive</td>\n",
       "      <td>3</td>\n",
       "    </tr>\n",
       "    <tr>\n",
       "      <th>1</th>\n",
       "      <td>I bought this on impulse and it comes from Japan,  which amused my family,  all those weird stamps and markings on the package. So that was fun.  It said it would take about a month to arrive and it did take that long.  I was hoping for a more interesting taste but to our family,  it just tasted a bit less flavorful or weaker than the standard milk chocolate kit kat.  The green tea flavor was too subtle for the sugar and it just tasted sweet. The wafers were very crispy, and that was good,  but it tasted a bit anemic to us.I'm happy I bought it, but don't need to buy it again.</td>\n",
       "      <td>3.0</td>\n",
       "      <td>food</td>\n",
       "      <td>bought impulse comes japan amused family weird stamps markings package fun said would take month arrive take long hoping interesting taste family tasted bit less flavorful weaker standard milk chocolate kit kat green tea flavor subtle sugar tasted sweet wafers crispy good tasted bit anemic us happy bought need buy</td>\n",
       "      <td>3</td>\n",
       "    </tr>\n",
       "  </tbody>\n",
       "</table>\n",
       "</div>"
      ],
      "text/plain": [
       "                                                                                                                                                                                                                                                                                                                                                                                                                                                                                                                                                                                                reviewText  \\\n",
       "0  Just another flavor of Kit Kat but the taste is unique and a bit different.  The only thing that is bothersome is the price.  I thought it was a bit expensive....                                                                                                                                                                                                                                                                                                                                                                                                                                        \n",
       "1  I bought this on impulse and it comes from Japan,  which amused my family,  all those weird stamps and markings on the package. So that was fun.  It said it would take about a month to arrive and it did take that long.  I was hoping for a more interesting taste but to our family,  it just tasted a bit less flavorful or weaker than the standard milk chocolate kit kat.  The green tea flavor was too subtle for the sugar and it just tasted sweet. The wafers were very crispy, and that was good,  but it tasted a bit anemic to us.I'm happy I bought it, but don't need to buy it again.   \n",
       "\n",
       "   overall category  \\\n",
       "0  4.0      food      \n",
       "1  3.0      food      \n",
       "\n",
       "                                                                                                                                                                                                                                                                                                                  cleaned_text  \\\n",
       "0  another flavor kit kat taste unique bit different thing bothersome price thought bit expensive                                                                                                                                                                                                                                \n",
       "1  bought impulse comes japan amused family weird stamps markings package fun said would take month arrive take long hoping interesting taste family tasted bit less flavorful weaker standard milk chocolate kit kat green tea flavor subtle sugar tasted sweet wafers crispy good tasted bit anemic us happy bought need buy   \n",
       "\n",
       "   label  \n",
       "0  3      \n",
       "1  3      "
      ]
     },
     "execution_count": 25,
     "metadata": {},
     "output_type": "execute_result"
    }
   ],
   "source": [
    "data.head(2)"
   ]
  },
  {
   "cell_type": "code",
   "execution_count": 26,
   "metadata": {
    "ExecuteTime": {
     "end_time": "2020-10-12T15:03:14.998363Z",
     "start_time": "2020-10-12T15:03:14.991077Z"
    }
   },
   "outputs": [
    {
     "data": {
      "text/plain": [
       "4    10000\n",
       "3    10000\n",
       "2    10000\n",
       "1    10000\n",
       "0    10000\n",
       "Name: label, dtype: int64"
      ]
     },
     "execution_count": 26,
     "metadata": {},
     "output_type": "execute_result"
    }
   ],
   "source": [
    "data[\"label\"].value_counts()"
   ]
  },
  {
   "cell_type": "code",
   "execution_count": 27,
   "metadata": {
    "ExecuteTime": {
     "end_time": "2020-10-12T15:03:15.015378Z",
     "start_time": "2020-10-12T15:03:15.000371Z"
    }
   },
   "outputs": [],
   "source": [
    "train_samples_class_0=data[data[\"label\"]==0][:9000]\n",
    "train_samples_class_1=data[data[\"label\"]==1][:9000]\n",
    "train_samples_class_2=data[data[\"label\"]==2][:9000]\n",
    "train_samples_class_3=data[data[\"label\"]==3][:9000]\n",
    "train_samples_class_4=data[data[\"label\"]==4][:9000]\n",
    "\n",
    "\n"
   ]
  },
  {
   "cell_type": "code",
   "execution_count": 28,
   "metadata": {
    "ExecuteTime": {
     "end_time": "2020-10-12T15:03:15.035595Z",
     "start_time": "2020-10-12T15:03:15.017184Z"
    }
   },
   "outputs": [],
   "source": [
    "train=pd.concat([train_samples_class_0,train_samples_class_1,train_samples_class_2,train_samples_class_3,train_samples_class_4])"
   ]
  },
  {
   "cell_type": "code",
   "execution_count": 29,
   "metadata": {
    "ExecuteTime": {
     "end_time": "2020-10-12T15:03:15.041180Z",
     "start_time": "2020-10-12T15:03:15.037375Z"
    }
   },
   "outputs": [
    {
     "data": {
      "text/plain": [
       "45000"
      ]
     },
     "execution_count": 29,
     "metadata": {},
     "output_type": "execute_result"
    }
   ],
   "source": [
    "len(train)"
   ]
  },
  {
   "cell_type": "code",
   "execution_count": 30,
   "metadata": {
    "ExecuteTime": {
     "end_time": "2020-10-12T15:03:15.058094Z",
     "start_time": "2020-10-12T15:03:15.043115Z"
    }
   },
   "outputs": [],
   "source": [
    "train=train.sample(frac=1.0)"
   ]
  },
  {
   "cell_type": "code",
   "execution_count": 31,
   "metadata": {
    "ExecuteTime": {
     "end_time": "2020-10-12T15:03:15.074270Z",
     "start_time": "2020-10-12T15:03:15.059844Z"
    }
   },
   "outputs": [],
   "source": [
    "test_samples_class_0=data[data[\"label\"]==0][9000:]\n",
    "test_samples_class_1=data[data[\"label\"]==1][9000:]\n",
    "test_samples_class_2=data[data[\"label\"]==2][9000:]\n",
    "test_samples_class_3=data[data[\"label\"]==3][9000:]\n",
    "test_samples_class_4=data[data[\"label\"]==4][9000:]\n"
   ]
  },
  {
   "cell_type": "code",
   "execution_count": 32,
   "metadata": {
    "ExecuteTime": {
     "end_time": "2020-10-12T15:03:15.082960Z",
     "start_time": "2020-10-12T15:03:15.075945Z"
    }
   },
   "outputs": [],
   "source": [
    "test=pd.concat([test_samples_class_0,test_samples_class_1,test_samples_class_2,test_samples_class_3,test_samples_class_4])"
   ]
  },
  {
   "cell_type": "code",
   "execution_count": 33,
   "metadata": {
    "ExecuteTime": {
     "end_time": "2020-10-12T15:03:15.088712Z",
     "start_time": "2020-10-12T15:03:15.084341Z"
    }
   },
   "outputs": [],
   "source": [
    "test=test.sample(frac=1.0)"
   ]
  },
  {
   "cell_type": "code",
   "execution_count": 34,
   "metadata": {
    "ExecuteTime": {
     "end_time": "2020-10-12T15:03:15.093939Z",
     "start_time": "2020-10-12T15:03:15.090283Z"
    }
   },
   "outputs": [
    {
     "name": "stdout",
     "output_type": "stream",
     "text": [
      "length of train 45000\n",
      "length of test 5000\n"
     ]
    }
   ],
   "source": [
    "print(\"length of train\",len(train))\n",
    "print(\"length of test\",len(test))"
   ]
  },
  {
   "cell_type": "code",
   "execution_count": 35,
   "metadata": {
    "ExecuteTime": {
     "end_time": "2020-10-12T15:03:15.104686Z",
     "start_time": "2020-10-12T15:03:15.095460Z"
    }
   },
   "outputs": [
    {
     "data": {
      "text/html": [
       "<div>\n",
       "<style scoped>\n",
       "    .dataframe tbody tr th:only-of-type {\n",
       "        vertical-align: middle;\n",
       "    }\n",
       "\n",
       "    .dataframe tbody tr th {\n",
       "        vertical-align: top;\n",
       "    }\n",
       "\n",
       "    .dataframe thead th {\n",
       "        text-align: right;\n",
       "    }\n",
       "</style>\n",
       "<table border=\"1\" class=\"dataframe\">\n",
       "  <thead>\n",
       "    <tr style=\"text-align: right;\">\n",
       "      <th></th>\n",
       "      <th>reviewText</th>\n",
       "      <th>overall</th>\n",
       "      <th>category</th>\n",
       "      <th>cleaned_text</th>\n",
       "      <th>label</th>\n",
       "    </tr>\n",
       "  </thead>\n",
       "  <tbody>\n",
       "    <tr>\n",
       "      <th>176</th>\n",
       "      <td>I love D&amp;D Ravenloft.  My favorite character was Lord Soth, the Knight of the Black Rose.  Well, he isn't in this game.  It's a different story.  Many other reviews already posted most key features and fun of this game.  The key point for me to say being many years D&amp;D player, I still want to join the group, but time is the key concern after getting old with busy job.  This is the one of the good solution for me to enjoy quick D&amp;D.  It combines both D&amp;D RPG and D&amp;D Miniature games with simple character and monster card plus miniatures and you can play as 1 player up to 5 players.  Yes, 1 players.  That's the key for me to join the advanture alone or in group with different fun and good time.  Nice game.</td>\n",
       "      <td>5.0</td>\n",
       "      <td>games</td>\n",
       "      <td>love ravenloft favorite character lord soth knight black rose well game different story many reviews already posted key features fun game key point say many years player still want join group time key concern getting old busy job one good solution enjoy quick combines rpg miniature games simple character monster card plus miniatures play player players yes players key join advanture alone group different fun good time nice game</td>\n",
       "      <td>2</td>\n",
       "    </tr>\n",
       "    <tr>\n",
       "      <th>8423</th>\n",
       "      <td>This is a bit too complicated for my 10 yr old daughter, but I bet next year it will be great.</td>\n",
       "      <td>2.0</td>\n",
       "      <td>games</td>\n",
       "      <td>bit complicated yr old daughter bet next year great</td>\n",
       "      <td>2</td>\n",
       "    </tr>\n",
       "  </tbody>\n",
       "</table>\n",
       "</div>"
      ],
      "text/plain": [
       "                                                                                                                                                                                                                                                                                                                                                                                                                                                                                                                                                                                                                                                                                                                                    reviewText  \\\n",
       "176   I love D&D Ravenloft.  My favorite character was Lord Soth, the Knight of the Black Rose.  Well, he isn't in this game.  It's a different story.  Many other reviews already posted most key features and fun of this game.  The key point for me to say being many years D&D player, I still want to join the group, but time is the key concern after getting old with busy job.  This is the one of the good solution for me to enjoy quick D&D.  It combines both D&D RPG and D&D Miniature games with simple character and monster card plus miniatures and you can play as 1 player up to 5 players.  Yes, 1 players.  That's the key for me to join the advanture alone or in group with different fun and good time.  Nice game.   \n",
       "8423  This is a bit too complicated for my 10 yr old daughter, but I bet next year it will be great.                                                                                                                                                                                                                                                                                                                                                                                                                                                                                                                                                                                                                                             \n",
       "\n",
       "      overall category  \\\n",
       "176   5.0      games     \n",
       "8423  2.0      games     \n",
       "\n",
       "                                                                                                                                                                                                                                                                                                                                                                                                                                         cleaned_text  \\\n",
       "176   love ravenloft favorite character lord soth knight black rose well game different story many reviews already posted key features fun game key point say many years player still want join group time key concern getting old busy job one good solution enjoy quick combines rpg miniature games simple character monster card plus miniatures play player players yes players key join advanture alone group different fun good time nice game   \n",
       "8423  bit complicated yr old daughter bet next year great                                                                                                                                                                                                                                                                                                                                                                                               \n",
       "\n",
       "      label  \n",
       "176   2      \n",
       "8423  2      "
      ]
     },
     "execution_count": 35,
     "metadata": {},
     "output_type": "execute_result"
    }
   ],
   "source": [
    "train.head(2)"
   ]
  },
  {
   "cell_type": "code",
   "execution_count": 36,
   "metadata": {
    "ExecuteTime": {
     "end_time": "2020-10-12T15:03:15.117865Z",
     "start_time": "2020-10-12T15:03:15.106435Z"
    }
   },
   "outputs": [
    {
     "data": {
      "text/html": [
       "<div>\n",
       "<style scoped>\n",
       "    .dataframe tbody tr th:only-of-type {\n",
       "        vertical-align: middle;\n",
       "    }\n",
       "\n",
       "    .dataframe tbody tr th {\n",
       "        vertical-align: top;\n",
       "    }\n",
       "\n",
       "    .dataframe thead th {\n",
       "        text-align: right;\n",
       "    }\n",
       "</style>\n",
       "<table border=\"1\" class=\"dataframe\">\n",
       "  <thead>\n",
       "    <tr style=\"text-align: right;\">\n",
       "      <th></th>\n",
       "      <th>reviewText</th>\n",
       "      <th>overall</th>\n",
       "      <th>category</th>\n",
       "      <th>cleaned_text</th>\n",
       "      <th>label</th>\n",
       "    </tr>\n",
       "  </thead>\n",
       "  <tbody>\n",
       "    <tr>\n",
       "      <th>9960</th>\n",
       "      <td>I got this originally for one of our cats that prefers a comb rather than brush, but it didn't work on her so well.  It works great on our little shihtzu though so I am totally happy with it.  I used the wide end and it went through his fine hair with ease and did a fantastic job.  The search is still on for a good cat comb I guess.</td>\n",
       "      <td>5.0</td>\n",
       "      <td>petsupplies</td>\n",
       "      <td>got originally one cats prefers comb rather brush work well works great little shihtzu though totally happy used wide end went fine hair ease fantastic job search still good cat comb guess</td>\n",
       "      <td>0</td>\n",
       "    </tr>\n",
       "    <tr>\n",
       "      <th>9508</th>\n",
       "      <td>This 15 Puzzle is one of the all time most popular puzzles--right up there with Rubik's Cube.I have loved puzzles of all kinds ever since I was a kid,over 70 years ago.The 15 Puzzle was probably my first puzzle and it has always challenged ,entertained and fascinated me .I have had many,many versions of it over the years.This one by Binary Arts/ThinkFun is one of my favorites for several reasons.It is extremely well made of metal,the tiles slide exceptionally well and do not fall out,and it is quite small,2 1/2\" X 2 1/2\" X 1/4\",and comes with a leatherette carrying case and even a tiny 14 page pamphlet that has a bit of information on the puzzle and 40 problems to solve.This pamphlet also fits in the carrying case.If you are interested in more information on this puzzle,I strongly suggest you get The 15 Puzzle Book\" by Jerry Slocum and Dic Sonneveld and/or \"The Famous 15 Puzzle\" a beautiful boxed set including a magnificent wooden puzzle and a book about the puzzle and the world wide craze it created in 1880,also by Slocum and Sonneveld.These two books are filled with all kinds of information,history,illustrations and details on solving various problems and arrangements.I have reviewed both of them.</td>\n",
       "      <td>5.0</td>\n",
       "      <td>games</td>\n",
       "      <td>puzzle one time popular puzzles right rubik cube loved puzzles kinds ever since kid years ago puzzle probably first puzzle always challenged entertained fascinated many many versions years one binary arts thinkfun one favorites several reasons extremely well made metal tiles slide exceptionally well fall quite small x x comes leatherette carrying case even tiny page pamphlet bit information puzzle problems solve pamphlet also fits carrying case interested information puzzle strongly suggest get puzzle book jerry slocum dic sonneveld famous puzzle beautiful boxed set including magnificent wooden puzzle book puzzle world wide craze created also slocum sonneveld two books filled kinds information history illustrations details solving various problems arrangements reviewed</td>\n",
       "      <td>2</td>\n",
       "    </tr>\n",
       "  </tbody>\n",
       "</table>\n",
       "</div>"
      ],
      "text/plain": [
       "                                                                                                                                                                                                                                                                                                                                                                                                                                                                                                                                                                                                                                                                                                                                                                                                                                                                                                                                                                                                                                                                                                                                                                                                                                                              reviewText  \\\n",
       "9960  I got this originally for one of our cats that prefers a comb rather than brush, but it didn't work on her so well.  It works great on our little shihtzu though so I am totally happy with it.  I used the wide end and it went through his fine hair with ease and did a fantastic job.  The search is still on for a good cat comb I guess.                                                                                                                                                                                                                                                                                                                                                                                                                                                                                                                                                                                                                                                                                                                                                                                                                                                                                                                       \n",
       "9508  This 15 Puzzle is one of the all time most popular puzzles--right up there with Rubik's Cube.I have loved puzzles of all kinds ever since I was a kid,over 70 years ago.The 15 Puzzle was probably my first puzzle and it has always challenged ,entertained and fascinated me .I have had many,many versions of it over the years.This one by Binary Arts/ThinkFun is one of my favorites for several reasons.It is extremely well made of metal,the tiles slide exceptionally well and do not fall out,and it is quite small,2 1/2\" X 2 1/2\" X 1/4\",and comes with a leatherette carrying case and even a tiny 14 page pamphlet that has a bit of information on the puzzle and 40 problems to solve.This pamphlet also fits in the carrying case.If you are interested in more information on this puzzle,I strongly suggest you get The 15 Puzzle Book\" by Jerry Slocum and Dic Sonneveld and/or \"The Famous 15 Puzzle\" a beautiful boxed set including a magnificent wooden puzzle and a book about the puzzle and the world wide craze it created in 1880,also by Slocum and Sonneveld.These two books are filled with all kinds of information,history,illustrations and details on solving various problems and arrangements.I have reviewed both of them.   \n",
       "\n",
       "      overall     category  \\\n",
       "9960  5.0      petsupplies   \n",
       "9508  5.0      games         \n",
       "\n",
       "                                                                                                                                                                                                                                                                                                                                                                                                                                                                                                                                                                                                                                                                                                                                                                                                     cleaned_text  \\\n",
       "9960  got originally one cats prefers comb rather brush work well works great little shihtzu though totally happy used wide end went fine hair ease fantastic job search still good cat comb guess                                                                                                                                                                                                                                                                                                                                                                                                                                                                                                                                                                                                                  \n",
       "9508  puzzle one time popular puzzles right rubik cube loved puzzles kinds ever since kid years ago puzzle probably first puzzle always challenged entertained fascinated many many versions years one binary arts thinkfun one favorites several reasons extremely well made metal tiles slide exceptionally well fall quite small x x comes leatherette carrying case even tiny page pamphlet bit information puzzle problems solve pamphlet also fits carrying case interested information puzzle strongly suggest get puzzle book jerry slocum dic sonneveld famous puzzle beautiful boxed set including magnificent wooden puzzle book puzzle world wide craze created also slocum sonneveld two books filled kinds information history illustrations details solving various problems arrangements reviewed   \n",
       "\n",
       "      label  \n",
       "9960  0      \n",
       "9508  2      "
      ]
     },
     "execution_count": 36,
     "metadata": {},
     "output_type": "execute_result"
    }
   ],
   "source": [
    "test.head(2)"
   ]
  },
  {
   "cell_type": "code",
   "execution_count": 37,
   "metadata": {
    "ExecuteTime": {
     "end_time": "2020-10-12T15:03:15.124801Z",
     "start_time": "2020-10-12T15:03:15.119737Z"
    }
   },
   "outputs": [],
   "source": [
    "X_train=np.array(train[\"cleaned_text\"])\n",
    "X_test=np.array(test[\"cleaned_text\"])\n",
    "y_train=np.array(train[\"label\"])\n",
    "y_test=np.array(test[\"label\"])"
   ]
  },
  {
   "cell_type": "code",
   "execution_count": 38,
   "metadata": {
    "ExecuteTime": {
     "end_time": "2020-10-12T15:03:15.131724Z",
     "start_time": "2020-10-12T15:03:15.126525Z"
    }
   },
   "outputs": [
    {
     "data": {
      "text/plain": [
       "'love ravenloft favorite character lord soth knight black rose well game different story many reviews already posted key features fun game key point say many years player still want join group time key concern getting old busy job one good solution enjoy quick combines rpg miniature games simple character monster card plus miniatures play player players yes players key join advanture alone group different fun good time nice game'"
      ]
     },
     "execution_count": 38,
     "metadata": {},
     "output_type": "execute_result"
    }
   ],
   "source": [
    "X_train[0]"
   ]
  },
  {
   "cell_type": "code",
   "execution_count": 39,
   "metadata": {
    "ExecuteTime": {
     "end_time": "2020-10-12T15:03:15.138229Z",
     "start_time": "2020-10-12T15:03:15.133876Z"
    }
   },
   "outputs": [
    {
     "data": {
      "text/plain": [
       "2"
      ]
     },
     "execution_count": 39,
     "metadata": {},
     "output_type": "execute_result"
    }
   ],
   "source": [
    "y_train[0]"
   ]
  },
  {
   "cell_type": "code",
   "execution_count": null,
   "metadata": {},
   "outputs": [],
   "source": []
  },
  {
   "cell_type": "markdown",
   "metadata": {},
   "source": [
    "# Data Preprocessing"
   ]
  },
  {
   "cell_type": "code",
   "execution_count": 40,
   "metadata": {
    "ExecuteTime": {
     "end_time": "2020-10-12T15:03:17.717574Z",
     "start_time": "2020-10-12T15:03:15.140121Z"
    }
   },
   "outputs": [],
   "source": [
    "from tensorflow.keras.preprocessing.text import Tokenizer\n",
    "from tensorflow.keras.preprocessing.sequence import pad_sequences\n",
    "from tensorflow.keras import Sequential"
   ]
  },
  {
   "cell_type": "markdown",
   "metadata": {},
   "source": [
    "### Tokenizer"
   ]
  },
  {
   "cell_type": "code",
   "execution_count": 41,
   "metadata": {
    "ExecuteTime": {
     "end_time": "2020-10-12T15:03:19.474497Z",
     "start_time": "2020-10-12T15:03:17.719524Z"
    }
   },
   "outputs": [],
   "source": [
    "tokenizer=Tokenizer(oov_token=\"<OOV>\")\n",
    "tokenizer.fit_on_texts(X_train)\n",
    "\n",
    "word_index=tokenizer.word_index"
   ]
  },
  {
   "cell_type": "code",
   "execution_count": 42,
   "metadata": {
    "ExecuteTime": {
     "end_time": "2020-10-12T15:03:19.490023Z",
     "start_time": "2020-10-12T15:03:19.476353Z"
    }
   },
   "outputs": [
    {
     "data": {
      "text/plain": [
       "{'<OOV>': 1,\n",
       " 'like': 2,\n",
       " 'one': 3,\n",
       " 'use': 4,\n",
       " 'great': 5,\n",
       " 'good': 6,\n",
       " 'product': 7,\n",
       " 'get': 8,\n",
       " 'game': 9,\n",
       " 'would': 10,\n",
       " 'well': 11,\n",
       " 'really': 12,\n",
       " 'time': 13,\n",
       " 'love': 14,\n",
       " 'also': 15,\n",
       " 'much': 16,\n",
       " 'little': 17,\n",
       " 'used': 18,\n",
       " 'skin': 19,\n",
       " 'even': 20}"
      ]
     },
     "execution_count": 42,
     "metadata": {},
     "output_type": "execute_result"
    }
   ],
   "source": [
    "dict(list(word_index.items())[0:20])"
   ]
  },
  {
   "cell_type": "code",
   "execution_count": 43,
   "metadata": {
    "ExecuteTime": {
     "end_time": "2020-10-12T15:03:19.495590Z",
     "start_time": "2020-10-12T15:03:19.492027Z"
    }
   },
   "outputs": [
    {
     "name": "stdout",
     "output_type": "stream",
     "text": [
      "45668\n",
      "45669\n"
     ]
    }
   ],
   "source": [
    "print(len(word_index))\n",
    "vocab_size=len(word_index)+1\n",
    "print(vocab_size)"
   ]
  },
  {
   "cell_type": "code",
   "execution_count": 44,
   "metadata": {
    "ExecuteTime": {
     "end_time": "2020-10-12T15:03:19.668578Z",
     "start_time": "2020-10-12T15:03:19.497105Z"
    }
   },
   "outputs": [],
   "source": [
    "data[\"len\"]=data[\"cleaned_text\"].apply(lambda x:len(x.split()))"
   ]
  },
  {
   "cell_type": "code",
   "execution_count": 45,
   "metadata": {
    "ExecuteTime": {
     "end_time": "2020-10-12T15:03:19.918732Z",
     "start_time": "2020-10-12T15:03:19.670408Z"
    }
   },
   "outputs": [
    {
     "data": {
      "text/plain": [
       "(array([16622., 15255.,  7285.,  4022.,  2292.,  1378.,   954.,   634.,\n",
       "          404.,   283.]),\n",
       " array([  0.,  20.,  40.,  60.,  80., 100., 120., 140., 160., 180., 200.]),\n",
       " <a list of 10 Patch objects>)"
      ]
     },
     "execution_count": 45,
     "metadata": {},
     "output_type": "execute_result"
    },
    {
     "data": {
      "image/png": "[encoded data removed]",
      "text/plain": [
       "<Figure size 432x288 with 1 Axes>"
      ]
     },
     "metadata": {
      "needs_background": "light"
     },
     "output_type": "display_data"
    }
   ],
   "source": [
    "import matplotlib.pyplot as plt\n",
    "plt.hist(data[\"len\"],range=(0,200))"
   ]
  },
  {
   "cell_type": "code",
   "execution_count": 46,
   "metadata": {
    "ExecuteTime": {
     "end_time": "2020-10-12T15:03:21.253848Z",
     "start_time": "2020-10-12T15:03:19.920524Z"
    }
   },
   "outputs": [
    {
     "name": "stdout",
     "output_type": "stream",
     "text": [
      "[14, 5355, 169, 1620, 4041, 25963, 6292, 196, 1357, 11, 9, 93, 1137, 58, 206, 363, 2726, 1427, 1077, 48, 9, 1427, 262, 94, 58, 38, 378, 26, 68, 4169, 977, 13, 1427, 2134, 138, 24, 1564, 222, 3, 6, 1006, 204, 358, 6413, 5641, 2164, 158, 226, 1620, 1774, 192, 291, 2627, 30, 378, 241, 439, 241, 1427, 4169, 17752, 859, 977, 93, 48, 6, 13, 35, 9]\n",
      "69\n"
     ]
    }
   ],
   "source": [
    "max_length=100\n",
    "embedding_dim=300 # every word will have 300 values [0.....300]\n",
    "trunc_type='post'\n",
    "padding_type='post'\n",
    "\n",
    "\n",
    "train_sequences=tokenizer.texts_to_sequences(X_train)\n",
    "print(train_sequences[0])\n",
    "print(len(train_sequences[0]))"
   ]
  },
  {
   "cell_type": "code",
   "execution_count": 47,
   "metadata": {
    "ExecuteTime": {
     "end_time": "2020-10-12T15:03:21.394992Z",
     "start_time": "2020-10-12T15:03:21.255590Z"
    }
   },
   "outputs": [
    {
     "name": "stdout",
     "output_type": "stream",
     "text": [
      "[51, 1665, 3, 292, 2814, 1926, 345, 375, 41, 11, 42, 5, 17, 33945, 87, 768, 172, 18, 751, 199, 360, 116, 33, 1109, 773, 222, 1573, 26, 6, 205, 1926, 408]\n"
     ]
    }
   ],
   "source": [
    "test_sequences=tokenizer.texts_to_sequences(X_test)\n",
    "print(test_sequences[0])"
   ]
  },
  {
   "cell_type": "code",
   "execution_count": 48,
   "metadata": {
    "ExecuteTime": {
     "end_time": "2020-10-12T15:03:21.423925Z",
     "start_time": "2020-10-12T15:03:21.396732Z"
    }
   },
   "outputs": [],
   "source": [
    "vocab=dict(list(word_index.items()))"
   ]
  },
  {
   "cell_type": "code",
   "execution_count": 49,
   "metadata": {
    "ExecuteTime": {
     "end_time": "2020-10-12T15:03:21.429226Z",
     "start_time": "2020-10-12T15:03:21.425647Z"
    }
   },
   "outputs": [
    {
     "data": {
      "text/plain": [
       "'got originally one cats prefers comb rather brush work well works great little shihtzu though totally happy used wide end went fine hair ease fantastic job search still good cat comb guess'"
      ]
     },
     "execution_count": 49,
     "metadata": {},
     "output_type": "execute_result"
    }
   ],
   "source": [
    "X_test[0]"
   ]
  },
  {
   "cell_type": "code",
   "execution_count": 50,
   "metadata": {
    "ExecuteTime": {
     "end_time": "2020-10-12T15:03:21.433381Z",
     "start_time": "2020-10-12T15:03:21.430925Z"
    }
   },
   "outputs": [],
   "source": [
    "explain='great shampoo conditioner two scotties hair '\n",
    "embed='[0.2,0.4,0.6,....until 300] [0.2,0.333,0.07,....until 300]'"
   ]
  },
  {
   "cell_type": "code",
   "execution_count": 51,
   "metadata": {
    "ExecuteTime": {
     "end_time": "2020-10-12T15:03:21.439692Z",
     "start_time": "2020-10-12T15:03:21.435483Z"
    }
   },
   "outputs": [
    {
     "data": {
      "text/plain": [
       "5"
      ]
     },
     "execution_count": 51,
     "metadata": {},
     "output_type": "execute_result"
    }
   ],
   "source": [
    "vocab.get('great')"
   ]
  },
  {
   "cell_type": "code",
   "execution_count": 52,
   "metadata": {
    "ExecuteTime": {
     "end_time": "2020-10-12T15:03:21.445096Z",
     "start_time": "2020-10-12T15:03:21.441411Z"
    }
   },
   "outputs": [
    {
     "data": {
      "text/plain": [
       "496"
      ]
     },
     "execution_count": 52,
     "metadata": {},
     "output_type": "execute_result"
    }
   ],
   "source": [
    "vocab.get('shampoo')"
   ]
  },
  {
   "cell_type": "markdown",
   "metadata": {},
   "source": [
    "### padding"
   ]
  },
  {
   "cell_type": "code",
   "execution_count": 53,
   "metadata": {
    "ExecuteTime": {
     "end_time": "2020-10-12T15:03:21.741847Z",
     "start_time": "2020-10-12T15:03:21.446728Z"
    }
   },
   "outputs": [],
   "source": [
    "train_padded=pad_sequences(train_sequences,maxlen=max_length,padding=padding_type,truncating=trunc_type)"
   ]
  },
  {
   "cell_type": "code",
   "execution_count": 54,
   "metadata": {
    "ExecuteTime": {
     "end_time": "2020-10-12T15:03:21.749449Z",
     "start_time": "2020-10-12T15:03:21.743822Z"
    }
   },
   "outputs": [
    {
     "name": "stdout",
     "output_type": "stream",
     "text": [
      "[   14  5355   169  1620  4041 25963  6292   196  1357    11     9    93\n",
      "  1137    58   206   363  2726  1427  1077    48     9  1427   262    94\n",
      "    58    38   378    26    68  4169   977    13  1427  2134   138    24\n",
      "  1564   222     3     6  1006   204   358  6413  5641  2164   158   226\n",
      "  1620  1774   192   291  2627    30   378   241   439   241  1427  4169\n",
      " 17752   859   977    93    48     6    13    35     9     0     0     0\n",
      "     0     0     0     0     0     0     0     0     0     0     0     0\n",
      "     0     0     0     0     0     0     0     0     0     0     0     0\n",
      "     0     0     0     0]\n",
      "100\n",
      "100\n"
     ]
    }
   ],
   "source": [
    "print(train_padded[0])\n",
    "print(len(train_padded[0]))\n",
    "print(len(train_padded[1]))"
   ]
  },
  {
   "cell_type": "code",
   "execution_count": 55,
   "metadata": {
    "ExecuteTime": {
     "end_time": "2020-10-12T15:03:21.793115Z",
     "start_time": "2020-10-12T15:03:21.751092Z"
    }
   },
   "outputs": [],
   "source": [
    "test_padded=pad_sequences(test_sequences,maxlen=max_length,padding=padding_type,truncating=trunc_type)"
   ]
  },
  {
   "cell_type": "code",
   "execution_count": 56,
   "metadata": {
    "ExecuteTime": {
     "end_time": "2020-10-12T15:03:21.798234Z",
     "start_time": "2020-10-12T15:03:21.794853Z"
    }
   },
   "outputs": [
    {
     "name": "stdout",
     "output_type": "stream",
     "text": [
      "[   51  1665     3   292  2814  1926   345   375    41    11    42     5\n",
      "    17 33945    87   768   172    18   751   199   360   116    33  1109\n",
      "   773   222  1573    26     6   205  1926   408     0     0     0     0\n",
      "     0     0     0     0     0     0     0     0     0     0     0     0\n",
      "     0     0     0     0     0     0     0     0     0     0     0     0\n",
      "     0     0     0     0     0     0     0     0     0     0     0     0\n",
      "     0     0     0     0     0     0     0     0     0     0     0     0\n",
      "     0     0     0     0     0     0     0     0     0     0     0     0\n",
      "     0     0     0     0]\n"
     ]
    }
   ],
   "source": [
    "print(test_padded[0])"
   ]
  },
  {
   "cell_type": "code",
   "execution_count": 57,
   "metadata": {
    "ExecuteTime": {
     "end_time": "2020-10-12T15:03:21.804299Z",
     "start_time": "2020-10-12T15:03:21.800759Z"
    }
   },
   "outputs": [
    {
     "name": "stdout",
     "output_type": "stream",
     "text": [
      "100\n"
     ]
    }
   ],
   "source": [
    "print(len(test_padded[0]))"
   ]
  },
  {
   "cell_type": "code",
   "execution_count": 58,
   "metadata": {
    "ExecuteTime": {
     "end_time": "2020-10-12T15:03:21.826470Z",
     "start_time": "2020-10-12T15:03:21.806167Z"
    }
   },
   "outputs": [],
   "source": [
    "reverse_word_index=dict([(value,key) for (key,value) in word_index.items()])"
   ]
  },
  {
   "cell_type": "code",
   "execution_count": 59,
   "metadata": {
    "ExecuteTime": {
     "end_time": "2020-10-12T15:03:21.831851Z",
     "start_time": "2020-10-12T15:03:21.828191Z"
    }
   },
   "outputs": [
    {
     "data": {
      "text/plain": [
       "'great'"
      ]
     },
     "execution_count": 59,
     "metadata": {},
     "output_type": "execute_result"
    }
   ],
   "source": [
    "reverse_word_index[5]"
   ]
  },
  {
   "cell_type": "code",
   "execution_count": 60,
   "metadata": {
    "ExecuteTime": {
     "end_time": "2020-10-12T15:03:21.836874Z",
     "start_time": "2020-10-12T15:03:21.833552Z"
    }
   },
   "outputs": [],
   "source": [
    "def decode_sentence(text):\n",
    "    return \" \".join([reverse_word_index.get(i,'?') for i in text])"
   ]
  },
  {
   "cell_type": "code",
   "execution_count": 61,
   "metadata": {
    "ExecuteTime": {
     "end_time": "2020-10-12T15:03:21.842119Z",
     "start_time": "2020-10-12T15:03:21.838394Z"
    }
   },
   "outputs": [
    {
     "data": {
      "text/plain": [
       "'got originally one cats prefers comb rather brush work well works great little shihtzu though totally happy used wide end went fine hair ease fantastic job search still good cat comb guess ? ? ? ? ? ? ? ? ? ? ? ? ? ? ? ? ? ? ? ? ? ? ? ? ? ? ? ? ? ? ? ? ? ? ? ? ? ? ? ? ? ? ? ? ? ? ? ? ? ? ? ? ? ? ? ? ? ? ? ? ? ? ? ? ? ? ? ?'"
      ]
     },
     "execution_count": 61,
     "metadata": {},
     "output_type": "execute_result"
    }
   ],
   "source": [
    "decode_sentence(test_padded[0])"
   ]
  },
  {
   "cell_type": "code",
   "execution_count": 62,
   "metadata": {
    "ExecuteTime": {
     "end_time": "2020-10-12T15:03:21.847842Z",
     "start_time": "2020-10-12T15:03:21.843663Z"
    }
   },
   "outputs": [
    {
     "data": {
      "text/plain": [
       "'got originally one cats prefers comb rather brush work well works great little shihtzu though totally happy used wide end went fine hair ease fantastic job search still good cat comb guess'"
      ]
     },
     "execution_count": 62,
     "metadata": {},
     "output_type": "execute_result"
    }
   ],
   "source": [
    "X_test[0]"
   ]
  },
  {
   "cell_type": "code",
   "execution_count": null,
   "metadata": {},
   "outputs": [],
   "source": []
  },
  {
   "cell_type": "markdown",
   "metadata": {},
   "source": [
    "# Model Development"
   ]
  },
  {
   "cell_type": "code",
   "execution_count": 63,
   "metadata": {
    "ExecuteTime": {
     "end_time": "2020-10-12T15:03:21.852714Z",
     "start_time": "2020-10-12T15:03:21.850135Z"
    }
   },
   "outputs": [],
   "source": [
    "import tensorflow as tf"
   ]
  },
  {
   "cell_type": "code",
   "execution_count": 64,
   "metadata": {
    "ExecuteTime": {
     "end_time": "2020-10-12T15:03:21.857750Z",
     "start_time": "2020-10-12T15:03:21.854287Z"
    }
   },
   "outputs": [
    {
     "data": {
      "text/plain": [
       "45669"
      ]
     },
     "execution_count": 64,
     "metadata": {},
     "output_type": "execute_result"
    }
   ],
   "source": [
    "vocab_size"
   ]
  },
  {
   "cell_type": "code",
   "execution_count": 65,
   "metadata": {
    "ExecuteTime": {
     "end_time": "2020-10-12T15:03:22.229697Z",
     "start_time": "2020-10-12T15:03:21.859259Z"
    }
   },
   "outputs": [],
   "source": [
    "lstm_model=tf.keras.Sequential([\n",
    "    # Add an Embedding layer  which expects vocab size and embeding size  300\n",
    "    tf.keras.layers.Embedding(vocab_size,embedding_dim), # creates word embedddings layer\n",
    "    tf.keras.layers.LSTM(128),\n",
    "#     tf.keras.layers.Dense(20,activation=\"relu\")\n",
    "    # units is nothing but number of hidden neurons in the lstm gates (forget,input,output)\n",
    "    tf.keras.layers.Dense(5,activation='softmax')\n",
    "    \n",
    "])"
   ]
  },
  {
   "cell_type": "code",
   "execution_count": 66,
   "metadata": {
    "ExecuteTime": {
     "end_time": "2020-10-12T15:03:22.238515Z",
     "start_time": "2020-10-12T15:03:22.231826Z"
    }
   },
   "outputs": [
    {
     "name": "stdout",
     "output_type": "stream",
     "text": [
      "Model: \"sequential\"\n",
      "_________________________________________________________________\n",
      "Layer (type)                 Output Shape              Param #   \n",
      "=================================================================\n",
      "embedding (Embedding)        (None, None, 300)         13700700  \n",
      "_________________________________________________________________\n",
      "lstm (LSTM)                  (None, 128)               219648    \n",
      "_________________________________________________________________\n",
      "dense (Dense)                (None, 5)                 645       \n",
      "=================================================================\n",
      "Total params: 13,920,993\n",
      "Trainable params: 13,920,993\n",
      "Non-trainable params: 0\n",
      "_________________________________________________________________\n"
     ]
    }
   ],
   "source": [
    "lstm_model.summary()"
   ]
  },
  {
   "cell_type": "code",
   "execution_count": 67,
   "metadata": {
    "ExecuteTime": {
     "end_time": "2020-10-12T15:03:22.244325Z",
     "start_time": "2020-10-12T15:03:22.240276Z"
    }
   },
   "outputs": [
    {
     "data": {
      "text/plain": [
       "{'petsupplies': 0, 'beauty': 1, 'games': 2, 'food': 3, 'office': 4}"
      ]
     },
     "execution_count": 67,
     "metadata": {},
     "output_type": "execute_result"
    }
   ],
   "source": [
    "category_labels"
   ]
  },
  {
   "cell_type": "code",
   "execution_count": 68,
   "metadata": {
    "ExecuteTime": {
     "end_time": "2020-10-12T15:03:22.254588Z",
     "start_time": "2020-10-12T15:03:22.250992Z"
    }
   },
   "outputs": [
    {
     "data": {
      "text/plain": [
       "(45000, 100)"
      ]
     },
     "execution_count": 68,
     "metadata": {},
     "output_type": "execute_result"
    }
   ],
   "source": [
    "train_padded.shape"
   ]
  },
  {
   "cell_type": "code",
   "execution_count": 69,
   "metadata": {
    "ExecuteTime": {
     "end_time": "2020-10-12T15:03:22.260350Z",
     "start_time": "2020-10-12T15:03:22.256545Z"
    }
   },
   "outputs": [
    {
     "data": {
      "text/plain": [
       "(5000, 100)"
      ]
     },
     "execution_count": 69,
     "metadata": {},
     "output_type": "execute_result"
    }
   ],
   "source": [
    "test_padded.shape"
   ]
  },
  {
   "cell_type": "code",
   "execution_count": 70,
   "metadata": {
    "ExecuteTime": {
     "end_time": "2020-10-12T15:03:22.266114Z",
     "start_time": "2020-10-12T15:03:22.262031Z"
    }
   },
   "outputs": [
    {
     "data": {
      "text/plain": [
       "(45000,)"
      ]
     },
     "execution_count": 70,
     "metadata": {},
     "output_type": "execute_result"
    }
   ],
   "source": [
    "y_train.shape"
   ]
  },
  {
   "cell_type": "code",
   "execution_count": 71,
   "metadata": {
    "ExecuteTime": {
     "end_time": "2020-10-12T15:03:22.271628Z",
     "start_time": "2020-10-12T15:03:22.267685Z"
    }
   },
   "outputs": [
    {
     "data": {
      "text/plain": [
       "(5000,)"
      ]
     },
     "execution_count": 71,
     "metadata": {},
     "output_type": "execute_result"
    }
   ],
   "source": [
    "y_test.shape"
   ]
  },
  {
   "cell_type": "code",
   "execution_count": 73,
   "metadata": {
    "ExecuteTime": {
     "end_time": "2020-10-12T15:17:44.901318Z",
     "start_time": "2020-10-12T15:03:22.278838Z"
    }
   },
   "outputs": [
    {
     "name": "stdout",
     "output_type": "stream",
     "text": [
      "Epoch 1/3\n",
      "1407/1407 - 259s - loss: 0.6849 - accuracy: 0.7076 - val_loss: 0.4063 - val_accuracy: 0.8680\n",
      "Epoch 2/3\n",
      "1407/1407 - 285s - loss: 0.2329 - accuracy: 0.9240 - val_loss: 0.4016 - val_accuracy: 0.8706\n",
      "Epoch 3/3\n",
      "1407/1407 - 317s - loss: 0.1925 - accuracy: 0.9380 - val_loss: 0.3986 - val_accuracy: 0.8774\n"
     ]
    }
   ],
   "source": [
    "opt=tf.keras.optimizers.Adam(0.01)\n",
    "lstm_model.compile(loss='sparse_categorical_crossentropy',optimizer=opt,metrics=['accuracy'])\n",
    "num_epochs=3\n",
    "histoy=lstm_model.fit(train_padded,y_train,epochs=num_epochs,validation_data=(test_padded,y_test),verbose=2)"
   ]
  },
  {
   "cell_type": "code",
   "execution_count": 74,
   "metadata": {
    "ExecuteTime": {
     "end_time": "2020-10-12T15:17:45.562531Z",
     "start_time": "2020-10-12T15:17:44.904029Z"
    }
   },
   "outputs": [
    {
     "name": "stdout",
     "output_type": "stream",
     "text": [
      "[[3.6639222e-03 1.4842912e-03 4.9497797e-03 9.8985928e-01 4.2688243e-05]] food\n"
     ]
    }
   ],
   "source": [
    "txt={\"tea real delight big fan white tea one best varieties tried flavor subtle overpowering get nice peach flavor sweet yet bitter still taste light flavor smooth white tea celestial seasonings imperial white peach white tea one favorite teas see going back time time really pleasant definitely recommend especially love white tea\"}\n",
    "seq=tokenizer.texts_to_sequences(txt)\n",
    "padded=pad_sequences(seq,maxlen=max_length,padding=padding_type,truncating=trunc_type)\n",
    "pred=lstm_model.predict(padded) # output [ 5 values  for each class and label number]\n",
    "labels=list(category_labels.keys())\n",
    "\n",
    "print(pred,labels[np.argmax(pred)])\n",
    "\n",
    "\n"
   ]
  },
  {
   "cell_type": "code",
   "execution_count": 75,
   "metadata": {
    "ExecuteTime": {
     "end_time": "2020-10-12T15:17:45.570457Z",
     "start_time": "2020-10-12T15:17:45.565009Z"
    }
   },
   "outputs": [
    {
     "data": {
      "text/plain": [
       "{'petsupplies': 0, 'beauty': 1, 'games': 2, 'food': 3, 'office': 4}"
      ]
     },
     "execution_count": 75,
     "metadata": {},
     "output_type": "execute_result"
    }
   ],
   "source": [
    "category_labels"
   ]
  },
  {
   "cell_type": "code",
   "execution_count": 79,
   "metadata": {
    "ExecuteTime": {
     "end_time": "2020-10-12T16:50:28.932920Z",
     "start_time": "2020-10-12T16:50:28.567696Z"
    }
   },
   "outputs": [],
   "source": [
    "lstm_model.save(\"final_model.h5\")"
   ]
  },
  {
   "cell_type": "code",
   "execution_count": 81,
   "metadata": {
    "ExecuteTime": {
     "end_time": "2020-10-12T16:50:54.687599Z",
     "start_time": "2020-10-12T16:50:54.223176Z"
    }
   },
   "outputs": [
    {
     "name": "stdout",
     "output_type": "stream",
     "text": [
      "Model: \"sequential\"\n",
      "_________________________________________________________________\n",
      "Layer (type)                 Output Shape              Param #   \n",
      "=================================================================\n",
      "embedding (Embedding)        (None, None, 300)         13700700  \n",
      "_________________________________________________________________\n",
      "lstm (LSTM)                  (None, 128)               219648    \n",
      "_________________________________________________________________\n",
      "dense (Dense)                (None, 5)                 645       \n",
      "=================================================================\n",
      "Total params: 13,920,993\n",
      "Trainable params: 13,920,993\n",
      "Non-trainable params: 0\n",
      "_________________________________________________________________\n"
     ]
    }
   ],
   "source": [
    "new_model = tf.keras.models.load_model('final_model.h5')\n",
    "\n",
    "# Show the model architecture\n",
    "new_model.summary()"
   ]
  },
  {
   "cell_type": "code",
   "execution_count": 88,
   "metadata": {
    "ExecuteTime": {
     "end_time": "2020-10-12T16:53:51.566532Z",
     "start_time": "2020-10-12T16:53:51.520686Z"
    }
   },
   "outputs": [
    {
     "name": "stdout",
     "output_type": "stream",
     "text": [
      "[[3.6639222e-03 1.4842912e-03 4.9497797e-03 9.8985928e-01 4.2688243e-05]] food\n"
     ]
    }
   ],
   "source": [
    "check1=lstm_model.predict(padded)\n",
    "labels1=list(category_labels.keys())\n",
    "print(check1,labels1[np.argmax(check1)])"
   ]
  },
  {
   "cell_type": "code",
   "execution_count": null,
   "metadata": {},
   "outputs": [],
   "source": []
  },
  {
   "cell_type": "code",
   "execution_count": 94,
   "metadata": {
    "ExecuteTime": {
     "end_time": "2020-10-12T21:39:20.325376Z",
     "start_time": "2020-10-12T21:39:20.081111Z"
    }
   },
   "outputs": [
    {
     "name": "stdout",
     "output_type": "stream",
     "text": [
      "[[4.8271663e-02 1.1689210e-03 1.4854333e-03 9.4880652e-01 2.6745870e-04]] food\n",
      "[[4.8271663e-02 1.1689210e-03 1.4854333e-03 9.4880652e-01 2.6745870e-04]] food\n"
     ]
    }
   ],
   "source": [
    "txt={\"I give this daily as a treat honey\"}\n",
    "seq=tokenizer.texts_to_sequences(txt)\n",
    "padded=pad_sequences(seq,maxlen=max_length,padding=padding_type,truncating=trunc_type)\n",
    "pred=lstm_model.predict(padded) # output [ 5 values  for each class and label number]\n",
    "labels=list(category_labels.keys())\n",
    "\n",
    "print(pred,labels[np.argmax(pred)])\n",
    "\n",
    "\n",
    "check2=new_model.predict(padded)\n",
    "labels2=list(category_labels.keys())\n",
    "print(check2,labels2[np.argmax(check2)])"
   ]
  },
  {
   "cell_type": "code",
   "execution_count": 93,
   "metadata": {
    "ExecuteTime": {
     "end_time": "2020-10-12T21:33:55.933784Z",
     "start_time": "2020-10-12T21:33:55.927154Z"
    }
   },
   "outputs": [
    {
     "name": "stdout",
     "output_type": "stream",
     "text": [
      "[[3.6639222e-03 1.4842912e-03 4.9497797e-03 9.8985928e-01 4.2688243e-05]]\n"
     ]
    }
   ],
   "source": [
    "print(check2)"
   ]
  },
  {
   "cell_type": "code",
   "execution_count": 91,
   "metadata": {
    "ExecuteTime": {
     "end_time": "2020-10-12T17:08:54.959483Z",
     "start_time": "2020-10-12T17:08:54.913990Z"
    }
   },
   "outputs": [],
   "source": [
    "import pickle\n",
    "\n",
    "with open('tokenizer.pickle', 'wb') as handle:\n",
    "    pickle.dump(tokenizer, handle, protocol=pickle.HIGHEST_PROTOCOL)"
   ]
  },
  {
   "cell_type": "code",
   "execution_count": null,
   "metadata": {},
   "outputs": [],
   "source": []
  },
  {
   "cell_type": "code",
   "execution_count": null,
   "metadata": {},
   "outputs": [],
   "source": []
  },
  {
   "cell_type": "code",
   "execution_count": null,
   "metadata": {},
   "outputs": [],
   "source": []
  },
  {
   "cell_type": "code",
   "execution_count": 76,
   "metadata": {
    "ExecuteTime": {
     "end_time": "2020-10-12T15:17:45.577853Z",
     "start_time": "2020-10-12T15:17:45.572872Z"
    }
   },
   "outputs": [
    {
     "data": {
      "text/plain": [
       "0.98909444"
      ]
     },
     "execution_count": 76,
     "metadata": {},
     "output_type": "execute_result"
    }
   ],
   "source": [
    "float(9.8909444e-01)"
   ]
  },
  {
   "cell_type": "code",
   "execution_count": 77,
   "metadata": {
    "ExecuteTime": {
     "end_time": "2020-10-12T15:17:45.585691Z",
     "start_time": "2020-10-12T15:17:45.580414Z"
    }
   },
   "outputs": [
    {
     "data": {
      "text/plain": [
       "0.0080315201"
      ]
     },
     "execution_count": 77,
     "metadata": {},
     "output_type": "execute_result"
    }
   ],
   "source": [
    "float(8.0315201e-03)"
   ]
  },
  {
   "cell_type": "code",
   "execution_count": 78,
   "metadata": {
    "ExecuteTime": {
     "end_time": "2020-10-12T15:17:45.602371Z",
     "start_time": "2020-10-12T15:17:45.588131Z"
    }
   },
   "outputs": [
    {
     "data": {
      "text/html": [
       "<div>\n",
       "<style scoped>\n",
       "    .dataframe tbody tr th:only-of-type {\n",
       "        vertical-align: middle;\n",
       "    }\n",
       "\n",
       "    .dataframe tbody tr th {\n",
       "        vertical-align: top;\n",
       "    }\n",
       "\n",
       "    .dataframe thead th {\n",
       "        text-align: right;\n",
       "    }\n",
       "</style>\n",
       "<table border=\"1\" class=\"dataframe\">\n",
       "  <thead>\n",
       "    <tr style=\"text-align: right;\">\n",
       "      <th></th>\n",
       "      <th>reviewText</th>\n",
       "      <th>overall</th>\n",
       "      <th>category</th>\n",
       "      <th>cleaned_text</th>\n",
       "      <th>label</th>\n",
       "    </tr>\n",
       "  </thead>\n",
       "  <tbody>\n",
       "    <tr>\n",
       "      <th>9359</th>\n",
       "      <td>I have a 55 gallon tank and the Aquarclear foam inserts works Great! I have had my tank for only 6 months and have never changed the insert. I do however take it out and rinse  it in tank water that I have taken out for this purpose once a month. It is holding up great! Great Value!</td>\n",
       "      <td>5.0</td>\n",
       "      <td>petsupplies</td>\n",
       "      <td>gallon tank aquarclear foam inserts works great tank months never changed insert however take rinse tank water taken purpose month holding great great value</td>\n",
       "      <td>0</td>\n",
       "    </tr>\n",
       "  </tbody>\n",
       "</table>\n",
       "</div>"
      ],
      "text/plain": [
       "                                                                                                                                                                                                                                                                                       reviewText  \\\n",
       "9359  I have a 55 gallon tank and the Aquarclear foam inserts works Great! I have had my tank for only 6 months and have never changed the insert. I do however take it out and rinse  it in tank water that I have taken out for this purpose once a month. It is holding up great! Great Value!   \n",
       "\n",
       "      overall     category  \\\n",
       "9359  5.0      petsupplies   \n",
       "\n",
       "                                                                                                                                                      cleaned_text  \\\n",
       "9359  gallon tank aquarclear foam inserts works great tank months never changed insert however take rinse tank water taken purpose month holding great great value   \n",
       "\n",
       "      label  \n",
       "9359  0      "
      ]
     },
     "execution_count": 78,
     "metadata": {},
     "output_type": "execute_result"
    }
   ],
   "source": [
    "test.sample(1)"
   ]
  },
  {
   "cell_type": "code",
   "execution_count": null,
   "metadata": {},
   "outputs": [],
   "source": [
    "bidirectional_lstm_model=tf.keras.Sequential([\n",
    "    # Add an Embedding layer  which expects vocab size and embeding size  300\n",
    "    tf.keras.layers.Embedding(vocab_size,embedding_dim), # creates word embedddings layer\n",
    "    tf.keras.layers.Bidirectional(tf.keras.layers.LSTM(128)), # units is nothing but number of hidden neurons in the lstm gates (forget,input,output)\n",
    "    tf.keras.layers.Dense(5,activation='softmax')\n",
    "    \n",
    "])"
   ]
  },
  {
   "cell_type": "code",
   "execution_count": null,
   "metadata": {},
   "outputs": [],
   "source": [
    "#model.compile\n",
    "#model.fit"
   ]
  },
  {
   "cell_type": "code",
   "execution_count": 104,
   "metadata": {
    "ExecuteTime": {
     "end_time": "2020-10-11T06:05:52.776591Z",
     "start_time": "2020-10-11T06:05:52.770709Z"
    }
   },
   "outputs": [
    {
     "name": "stdout",
     "output_type": "stream",
     "text": [
      "embedding True\n",
      "Layer Configuration:\n",
      "{'name': 'embedding', 'trainable': True, 'batch_input_shape': (None, None), 'dtype': 'float32', 'input_dim': 45669, 'output_dim': 300, 'embeddings_initializer': {'class_name': 'RandomUniform', 'config': {'minval': -0.05, 'maxval': 0.05, 'seed': None}}, 'embeddings_regularizer': None, 'activity_regularizer': None, 'embeddings_constraint': None, 'mask_zero': False, 'input_length': None}\n",
      "----------------------------------------\n",
      "lstm True\n",
      "Layer Configuration:\n",
      "{'name': 'lstm', 'trainable': True, 'dtype': 'float32', 'return_sequences': False, 'return_state': False, 'go_backwards': False, 'stateful': False, 'unroll': False, 'time_major': False, 'units': 128, 'activation': 'tanh', 'recurrent_activation': 'sigmoid', 'use_bias': True, 'kernel_initializer': {'class_name': 'GlorotUniform', 'config': {'seed': None}}, 'recurrent_initializer': {'class_name': 'Orthogonal', 'config': {'gain': 1.0, 'seed': None}}, 'bias_initializer': {'class_name': 'Zeros', 'config': {}}, 'unit_forget_bias': True, 'kernel_regularizer': None, 'recurrent_regularizer': None, 'bias_regularizer': None, 'activity_regularizer': None, 'kernel_constraint': None, 'recurrent_constraint': None, 'bias_constraint': None, 'dropout': 0.0, 'recurrent_dropout': 0.0, 'implementation': 2}\n",
      "----------------------------------------\n",
      "dense True\n",
      "Layer Configuration:\n",
      "{'name': 'dense', 'trainable': True, 'dtype': 'float32', 'units': 5, 'activation': 'softmax', 'use_bias': True, 'kernel_initializer': {'class_name': 'GlorotUniform', 'config': {'seed': None}}, 'bias_initializer': {'class_name': 'Zeros', 'config': {}}, 'kernel_regularizer': None, 'bias_regularizer': None, 'activity_regularizer': None, 'kernel_constraint': None, 'bias_constraint': None}\n",
      "----------------------------------------\n"
     ]
    }
   ],
   "source": [
    "for layer in lstm_model.layers:\n",
    "    print(layer.name, layer.trainable)\n",
    "    print('Layer Configuration:')\n",
    "    print(layer.get_config(), end='\\n{}\\n'.format('----'*10))"
   ]
  },
  {
   "cell_type": "code",
   "execution_count": 106,
   "metadata": {
    "ExecuteTime": {
     "end_time": "2020-10-11T06:07:04.120315Z",
     "start_time": "2020-10-11T06:07:04.107998Z"
    }
   },
   "outputs": [
    {
     "data": {
      "text/plain": [
       "[array([[ 0.13905868,  0.37285912, -0.20110786, ...,  0.1568514 ,\n",
       "          0.10793047,  0.04484409],\n",
       "        [-0.48659402, -0.6519449 , -0.48777258, ...,  0.5803502 ,\n",
       "          0.13639286, -0.45443347],\n",
       "        [ 0.7739898 , -1.1207192 ,  0.4257845 , ..., -0.9131516 ,\n",
       "          0.700784  , -0.04294791],\n",
       "        ...,\n",
       "        [-1.1340482 , -0.5418769 ,  0.54342717, ..., -0.32852855,\n",
       "          0.3491365 , -0.92203295],\n",
       "        [-0.60807884,  1.3037893 , -0.2972838 , ...,  0.5588997 ,\n",
       "          0.0648509 , -0.76244277],\n",
       "        [ 0.8194841 , -0.13189198, -0.651196  , ..., -0.3042167 ,\n",
       "          0.05759194, -0.0401408 ]], dtype=float32),\n",
       " array([[ 0.76355726, -0.21407458,  0.4942012 , ..., -0.8594808 ,\n",
       "         -0.05540085, -0.3863852 ],\n",
       "        [ 0.3953116 , -0.93397623,  0.70894754, ..., -1.100515  ,\n",
       "         -0.30179405,  0.07129705],\n",
       "        [ 0.9452478 , -0.23290929, -0.5580628 , ..., -0.51741505,\n",
       "         -0.9036044 ,  0.1259622 ],\n",
       "        ...,\n",
       "        [ 0.05426372, -0.0368277 ,  0.6144565 , ...,  1.5923711 ,\n",
       "          0.09182589,  0.6880232 ],\n",
       "        [ 1.2688278 ,  0.85975575, -0.5255939 , ..., -1.6227165 ,\n",
       "         -0.17560144, -0.52993613],\n",
       "        [ 0.50890714,  0.99182653,  0.95065516, ..., -0.7027175 ,\n",
       "         -1.9493788 , -0.6069306 ]], dtype=float32),\n",
       " array([-3.76744121e-01, -1.10993409e+00, -9.82798040e-01, -3.29325169e-01,\n",
       "         3.45945746e-01, -1.83094472e-01, -3.89315099e-01, -4.73006755e-01,\n",
       "        -3.64386261e-01, -1.55076873e+00, -1.79080188e+00, -5.18992767e-02,\n",
       "        -2.11721611e+00, -4.63266149e-02, -1.50793588e+00, -1.31467187e+00,\n",
       "        -8.99784625e-01, -7.81679451e-01, -1.14405239e+00, -1.49618208e+00,\n",
       "         3.01586628e-01, -5.20143449e-01, -1.56237769e+00, -4.33325022e-01,\n",
       "        -1.06550956e+00, -5.49615264e-01, -1.07198834e+00, -8.23422447e-02,\n",
       "        -5.74547350e-02, -4.50041115e-01, -4.30167526e-01, -2.15252137e+00,\n",
       "        -1.95934311e-01, -7.39849031e-01, -6.65461645e-02, -3.02768975e-01,\n",
       "        -1.83854386e-01, -1.54174483e+00, -6.42150640e-01, -8.65010738e-01,\n",
       "        -5.37633121e-01,  8.87047648e-01,  1.72388554e-01, -1.06151450e+00,\n",
       "        -1.10513222e+00, -8.97357285e-01,  4.49627399e-01, -5.51493883e-01,\n",
       "         1.38578504e-01, -2.50393057e+00, -5.48991501e-01, -5.65664731e-02,\n",
       "        -1.28334427e+00, -7.02332497e-01, -3.05693954e-01,  5.95809259e-02,\n",
       "         1.31296217e-01, -1.58211395e-01, -3.17918658e-01,  1.09739053e+00,\n",
       "         1.37884006e-01, -6.10564947e-01,  1.67163551e+00, -8.34802210e-01,\n",
       "         8.07526946e-01, -1.56762266e+00, -8.11314464e-01, -9.21554267e-01,\n",
       "        -5.17851412e-01, -2.37006783e-01,  5.48348844e-01, -9.63272452e-01,\n",
       "        -2.50640702e+00, -1.28619242e+00,  5.97938299e-01,  1.75277889e-01,\n",
       "        -5.73075831e-01, -4.66200590e-01, -7.14870870e-01,  2.91644577e-02,\n",
       "        -1.30175602e+00, -8.56480420e-01, -1.54150736e+00, -1.27241218e+00,\n",
       "         9.41492692e-02, -6.97761655e-01, -1.10441208e+00, -7.21889079e-01,\n",
       "        -1.39379656e+00, -3.41658443e-01, -6.81025028e-01, -1.74624312e+00,\n",
       "        -1.24625914e-01, -1.94073033e+00, -4.98846769e-01, -7.60314941e-01,\n",
       "        -8.66404712e-01, -1.12708673e-01, -1.09688735e+00, -6.96625173e-01,\n",
       "        -4.37688947e-01, -1.05692148e+00, -1.56552362e+00, -2.33596325e+00,\n",
       "        -1.05232382e+00,  2.06077948e-01, -5.04183292e-01,  9.68861222e-01,\n",
       "        -2.39173606e-01, -8.49058181e-02, -6.78987384e-01,  1.35089144e-01,\n",
       "        -4.34707731e-01, -3.29710782e-01, -1.11026967e+00, -3.83130640e-01,\n",
       "         2.05211356e-01, -7.09829628e-01, -6.08032048e-01, -1.96050122e-01,\n",
       "        -1.30414057e+00, -9.30447102e-01,  2.05021491e-03, -8.21598589e-01,\n",
       "        -3.85298818e-01, -1.15163445e+00, -7.66981006e-01, -6.93224296e-02,\n",
       "         2.21230373e-01,  2.07157779e+00, -2.03639612e-01,  6.61861062e-01,\n",
       "        -1.66441560e-01,  2.79705596e+00,  6.25451028e-01,  5.77997029e-01,\n",
       "         1.95511210e+00,  3.53068262e-01,  2.89206505e+00,  2.06047148e-01,\n",
       "         2.28629446e+00, -2.15910092e-01,  4.40616906e-01,  2.52378225e+00,\n",
       "         1.89427495e+00,  1.62339175e+00,  3.92333806e-01, -7.21357226e-01,\n",
       "         1.13978195e+00,  1.16525590e+00,  7.08942652e-01,  1.01511347e+00,\n",
       "         1.63917816e+00, -2.01792940e-01,  4.01179582e-01,  3.98594499e-01,\n",
       "         8.33095849e-01, -5.93343377e-01,  8.24234366e-01,  1.15194750e+00,\n",
       "         1.17488778e+00,  1.92856228e+00,  1.09551287e+00,  2.69912720e-01,\n",
       "         1.19954050e+00,  2.73622799e+00,  7.08260477e-01,  9.39814925e-01,\n",
       "         1.26556134e+00,  1.77131462e+00,  5.04056633e-01,  1.57012808e+00,\n",
       "         2.32986069e+00,  4.90179002e-01,  5.79317510e-01,  4.16145295e-01,\n",
       "         2.80170536e+00,  2.02999973e+00,  1.21449125e+00,  1.06776011e+00,\n",
       "         1.76307321e-01,  5.75069189e-01,  1.89866722e+00,  7.42274880e-01,\n",
       "         9.32635307e-01,  9.76119459e-01,  1.71702611e+00,  1.21846831e+00,\n",
       "         7.37436891e-01,  1.00814044e+00,  4.24905151e-01,  6.96990311e-01,\n",
       "         7.67982781e-01,  2.56148386e+00,  6.95341170e-01,  2.92044491e-01,\n",
       "        -1.96935937e-01,  8.34740937e-01,  3.75654757e-01,  2.22792196e+00,\n",
       "         2.74426818e+00,  1.29399288e+00,  7.03413010e-01,  1.99726284e+00,\n",
       "         9.32132602e-01,  1.75696576e+00,  4.44212705e-01,  2.05218387e+00,\n",
       "         1.86047125e+00,  2.12748945e-01,  1.13953340e+00,  5.06070316e-01,\n",
       "         1.97158957e+00,  2.87317544e-01,  2.10764170e+00,  8.16231489e-01,\n",
       "         2.61180382e-02,  1.35122669e+00,  4.46518153e-01,  4.75541176e-03,\n",
       "         1.48242211e+00,  2.37456155e+00,  1.38305235e+00,  1.75116825e+00,\n",
       "         1.46042538e+00,  8.25167000e-01,  7.81291306e-01,  2.75529599e+00,\n",
       "         2.28813386e+00,  1.21271276e+00,  7.86535263e-01,  1.96615887e+00,\n",
       "         2.64348531e+00,  1.40841413e+00,  2.26917624e+00,  7.86722839e-01,\n",
       "         2.59656578e-01,  2.51189804e+00,  8.84072363e-01,  2.17147493e+00,\n",
       "         1.24239349e+00,  1.94888711e-01,  1.03231490e+00,  2.90250540e+00,\n",
       "         1.12996709e+00,  1.53582528e-01,  1.52637815e+00,  1.70553458e+00,\n",
       "         1.51892328e+00,  1.80977988e+00,  4.30691838e-01,  2.11594081e+00,\n",
       "         1.91416013e+00,  2.01223779e+00,  1.31213272e+00,  1.59795046e+00,\n",
       "         5.71156591e-02, -6.89786002e-02, -7.22740591e-02, -6.88102245e-01,\n",
       "        -6.25024319e-01,  3.78928930e-02, -3.89576703e-01,  6.75196052e-01,\n",
       "        -1.13641918e-01,  2.94643700e-01,  1.68308280e-02,  6.93444729e-01,\n",
       "         6.98672757e-02, -3.04162413e-01, -2.59394705e-01,  1.58225864e-01,\n",
       "        -1.32272887e+00,  1.49471521e-01, -4.21105802e-01,  2.84553140e-01,\n",
       "        -2.34333485e-01,  4.99643505e-01,  4.38329488e-01,  2.37104759e-01,\n",
       "        -6.41894042e-01,  4.78740185e-01, -2.02650964e-01,  4.64624882e-01,\n",
       "        -9.79213566e-02,  7.00574875e-01,  1.24580130e-01,  2.05571532e-01,\n",
       "         1.99985430e-01,  3.68888646e-01,  4.97630358e-01, -1.60036355e-01,\n",
       "        -4.41527218e-01, -2.86644120e-02, -2.68467605e-01, -2.86990136e-01,\n",
       "         6.09153152e-01,  7.91756511e-01, -9.14512515e-01, -3.07885826e-01,\n",
       "        -2.35614881e-01, -1.13943267e+00,  1.07453930e+00,  3.60665955e-02,\n",
       "         4.19513017e-01, -4.13715124e-01,  1.35365471e-01, -6.45239174e-01,\n",
       "        -1.36977601e+00,  9.58088338e-01, -6.09379172e-01,  3.10741216e-01,\n",
       "         6.16834462e-01,  4.47524339e-01,  1.83341593e-01,  3.24420184e-01,\n",
       "        -7.28465736e-01,  1.37869731e-01,  2.40845546e-01, -4.53631610e-01,\n",
       "        -1.29400587e+00, -1.92078590e-01,  7.71876276e-01, -2.87250668e-01,\n",
       "        -7.80174136e-01, -2.47132510e-01,  1.09022534e+00, -5.75226434e-02,\n",
       "        -4.29293513e-01,  9.52449203e-01, -1.62045747e-01,  7.50868261e-01,\n",
       "        -8.66324723e-01,  2.06292346e-01, -4.43755686e-01, -6.35419488e-01,\n",
       "         2.54282951e-01, -2.70535816e-02, -8.52762282e-01, -8.56251359e-01,\n",
       "        -3.05660248e-01, -1.28127590e-01, -4.68232147e-02, -5.37501812e-01,\n",
       "        -3.27053875e-01,  2.79322952e-01, -5.35683572e-01, -4.26336974e-01,\n",
       "        -6.35618746e-01, -7.36601174e-01, -6.38808131e-01,  7.66211599e-02,\n",
       "        -3.97133857e-01,  4.63112414e-01, -2.79216319e-01, -1.01288490e-01,\n",
       "         3.45530808e-01, -3.78385885e-03,  6.79756939e-01,  1.80694222e-01,\n",
       "        -2.79558599e-02, -3.33505780e-01, -8.04522812e-01,  6.26784742e-01,\n",
       "         3.74711692e-01, -2.46257365e-01, -2.78240263e-01,  5.98491251e-01,\n",
       "         1.20477319e+00,  6.81049824e-01,  2.52685815e-01,  3.73636574e-01,\n",
       "        -4.26537842e-01,  5.45158863e-01,  2.51718611e-01, -1.77514970e-01,\n",
       "         4.87927526e-01, -4.56587046e-01, -1.59523141e+00,  9.48533118e-02,\n",
       "         2.13287041e-01,  1.20251402e-01, -5.48949420e-01, -7.63074040e-01,\n",
       "        -6.96219683e-01,  7.84684062e-01, -1.84819067e+00, -8.93321335e-01,\n",
       "         1.04244836e-01,  2.40656257e-01, -1.59680474e+00,  4.40429091e-01,\n",
       "         7.20376015e-01, -3.58022958e-01,  6.66766286e-01, -6.65773451e-01,\n",
       "         8.94793689e-01, -9.87950683e-01, -8.27340961e-01,  9.26491320e-01,\n",
       "        -6.40949428e-01,  4.22008812e-01, -1.40291393e+00, -1.64343143e+00,\n",
       "         2.84660757e-01,  9.85496283e-01, -6.26749277e-01, -4.71919894e-01,\n",
       "        -2.02246994e-01, -1.25197279e+00, -8.96011472e-01, -1.11924362e+00,\n",
       "        -4.27671820e-01, -1.28341806e+00, -5.97250521e-01, -3.00802708e-01,\n",
       "        -2.07305640e-01, -6.84231460e-01, -9.63587761e-01, -8.18877220e-01,\n",
       "        -9.41444337e-01,  1.39814270e+00, -6.14965618e-01, -6.94907963e-01,\n",
       "         6.29933298e-01,  1.36537746e-01, -4.14128125e-01,  1.25410199e-01,\n",
       "         7.06485391e-01, -2.98176497e-01, -7.49131814e-02, -9.41077098e-02,\n",
       "        -8.19449648e-02,  3.09295058e-01, -6.60964906e-01,  1.13412134e-01,\n",
       "        -1.35537517e+00, -8.62455964e-02,  9.42191303e-01, -6.28913343e-01,\n",
       "        -3.19432229e-01, -1.65181413e-01, -6.71039104e-01, -5.09752631e-01,\n",
       "        -3.87177438e-01,  2.25023963e-02,  3.39734972e-01, -4.39087063e-01,\n",
       "        -5.00033721e-02,  5.02556622e-01, -1.04868978e-01, -1.19107544e-01,\n",
       "        -4.68401581e-01,  1.85158998e-01, -8.75407398e-01,  1.71488166e-01,\n",
       "         7.93086231e-01,  1.54012895e+00, -1.05716300e+00,  7.63296664e-01,\n",
       "        -7.09651530e-01, -9.17559341e-02,  7.73177817e-02, -3.23034227e-01,\n",
       "         3.74334604e-02,  2.32021317e-01, -8.57915103e-01, -8.79163265e-01,\n",
       "        -1.33139384e+00, -1.13484812e+00,  1.48602296e-02,  1.05171159e-01,\n",
       "         2.66423821e-01,  4.18829948e-01, -5.54517508e-01, -7.85969853e-01,\n",
       "        -1.79343128e+00,  8.50097477e-01,  2.30929121e-01, -8.03054869e-01,\n",
       "         2.65587866e-01,  2.94092417e-01, -1.10177672e+00,  9.52696919e-01,\n",
       "         1.04317856e+00,  4.15594220e-01, -5.96143782e-01,  8.02691206e-02,\n",
       "         1.98320433e-01, -2.54799813e-01,  5.97429693e-01, -8.94944966e-01,\n",
       "        -4.56193715e-01,  1.03376913e+00, -2.91367054e-01,  1.72411829e-01,\n",
       "         1.99566513e-01, -1.74700963e+00, -4.87572879e-01,  2.94737108e-02,\n",
       "        -1.90899158e+00, -1.47737801e-01,  1.66537255e-01, -8.59641671e-01,\n",
       "        -5.45653999e-01, -5.82785830e-02,  1.49306163e-01,  9.61660683e-01,\n",
       "         4.52425689e-01,  6.68588161e-01,  1.10556877e+00,  8.37277353e-01],\n",
       "       dtype=float32)]"
      ]
     },
     "execution_count": 106,
     "metadata": {},
     "output_type": "execute_result"
    }
   ],
   "source": [
    "lstm_model.layers[1].get_weights()"
   ]
  },
  {
   "cell_type": "code",
   "execution_count": null,
   "metadata": {},
   "outputs": [],
   "source": []
  }
 ],
 "metadata": {
  "kernelspec": {
   "display_name": "Python 3.7.7 64-bit ('rec_sys': conda)",
   "language": "python",
   "name": "python37764bitrecsysconda33c625ed33b24c0c8b9f3a8f8ff4cc60"
  },
  "language_info": {
   "codemirror_mode": {
    "name": "ipython",
    "version": 3
   },
   "file_extension": ".py",
   "mimetype": "text/x-python",
   "name": "python",
   "nbconvert_exporter": "python",
   "pygments_lexer": "ipython3",
   "version": "3.7.7"
  }
 },
 "nbformat": 4,
 "nbformat_minor": 4
}
